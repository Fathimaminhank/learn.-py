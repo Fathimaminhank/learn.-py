{
  "nbformat": 4,
  "nbformat_minor": 0,
  "metadata": {
    "colab": {
      "name": "TASK 17.ipynb",
      "provenance": [],
      "include_colab_link": true
    },
    "kernelspec": {
      "name": "python3",
      "display_name": "Python 3"
    },
    "language_info": {
      "name": "python"
    }
  },
  "cells": [
    {
      "cell_type": "markdown",
      "metadata": {
        "id": "view-in-github",
        "colab_type": "text"
      },
      "source": [
        "<a href=\"https://colab.research.google.com/github/Fathimaminhank/learn.-py/blob/main/TASK_17.ipynb\" target=\"_parent\"><img src=\"https://colab.research.google.com/assets/colab-badge.svg\" alt=\"Open In Colab\"/></a>"
      ]
    },
    {
      "cell_type": "markdown",
      "metadata": {
        "id": "0SLapvpoaeYY"
      },
      "source": [
        "1. Create a DataFrame by passing a random numpy array,with a datetie index and labelled columns.and display its,\n",
        "     - Head\n",
        "     - Tail\n",
        "     - Index \n",
        "     - Columns\n",
        "     - Values\n",
        "     - statistics\n"
      ]
    },
    {
      "cell_type": "code",
      "metadata": {
        "id": "zJDkjyVxa5yU",
        "outputId": "de073d10-3ce3-406b-8ca8-8cbc782af679",
        "colab": {
          "base_uri": "https://localhost:8080/"
        }
      },
      "source": [
        "#please type your answer below this line.\n",
        "import pandas as pd\n",
        "import numpy as np\n",
        "dates=pd.date_range('20201010',periods=6)\n",
        "df=pd.DataFrame(np.random.randn(6,4),index=dates,columns=list('ABCD'))\n",
        "print(df)\n",
        "print(df.head())\n",
        "print(df.tail())\n",
        "print(df.index)\n",
        "print(pd.set_option('display.max_columns',None))\n",
        "print(df.values)\n",
        "print(df.describe())"
      ],
      "execution_count": 1,
      "outputs": [
        {
          "output_type": "stream",
          "name": "stdout",
          "text": [
            "                   A         B         C         D\n",
            "2020-10-10  1.120571 -1.253711 -1.307824  1.456893\n",
            "2020-10-11 -0.730779  0.096238  0.217155 -0.990214\n",
            "2020-10-12  1.440796  0.282697 -1.757973 -1.709974\n",
            "2020-10-13 -1.919110  0.196161  0.148744  0.567967\n",
            "2020-10-14 -0.718521 -1.004043 -0.521461 -1.958593\n",
            "2020-10-15  0.969161  0.274643  0.718503  0.828482\n",
            "                   A         B         C         D\n",
            "2020-10-10  1.120571 -1.253711 -1.307824  1.456893\n",
            "2020-10-11 -0.730779  0.096238  0.217155 -0.990214\n",
            "2020-10-12  1.440796  0.282697 -1.757973 -1.709974\n",
            "2020-10-13 -1.919110  0.196161  0.148744  0.567967\n",
            "2020-10-14 -0.718521 -1.004043 -0.521461 -1.958593\n",
            "                   A         B         C         D\n",
            "2020-10-11 -0.730779  0.096238  0.217155 -0.990214\n",
            "2020-10-12  1.440796  0.282697 -1.757973 -1.709974\n",
            "2020-10-13 -1.919110  0.196161  0.148744  0.567967\n",
            "2020-10-14 -0.718521 -1.004043 -0.521461 -1.958593\n",
            "2020-10-15  0.969161  0.274643  0.718503  0.828482\n",
            "DatetimeIndex(['2020-10-10', '2020-10-11', '2020-10-12', '2020-10-13',\n",
            "               '2020-10-14', '2020-10-15'],\n",
            "              dtype='datetime64[ns]', freq='D')\n",
            "None\n",
            "[[ 1.12057064 -1.25371101 -1.30782393  1.45689276]\n",
            " [-0.7307795   0.09623816  0.21715496 -0.99021437]\n",
            " [ 1.44079585  0.28269669 -1.75797295 -1.70997357]\n",
            " [-1.91910956  0.19616101  0.14874445  0.56796695]\n",
            " [-0.71852141 -1.00404346 -0.52146053 -1.95859315]\n",
            " [ 0.96916124  0.27464263  0.71850348  0.82848164]]\n",
            "              A         B         C         D\n",
            "count  6.000000  6.000000  6.000000  6.000000\n",
            "mean   0.027020 -0.234669 -0.417142 -0.300907\n",
            "std    1.341623  0.700366  0.960653  1.437279\n",
            "min   -1.919110 -1.253711 -1.757973 -1.958593\n",
            "25%   -0.727715 -0.728973 -1.111233 -1.530034\n",
            "50%    0.125320  0.146200 -0.186358 -0.211124\n",
            "75%    1.082718  0.255022  0.200052  0.763353\n",
            "max    1.440796  0.282697  0.718503  1.456893\n"
          ]
        }
      ]
    },
    {
      "cell_type": "markdown",
      "metadata": {
        "id": "xnkA2mKDdyoO"
      },
      "source": [
        "2. Use the above table and,\n",
        "      - find transpose of your data.\n",
        "      - sort the index in the descending order of the date."
      ]
    },
    {
      "cell_type": "code",
      "metadata": {
        "id": "uqcQSEOufJ5P",
        "outputId": "69a37e9b-f27b-4d2f-8542-83ec20b0151d",
        "colab": {
          "base_uri": "https://localhost:8080/"
        }
      },
      "source": [
        "#please provide your answer below this line.\n",
        " \n",
        " \n",
        "import pandas as pd\n",
        "import numpy as np\n",
        "dates=pd.date_range('20201010',periods=6)\n",
        "df=pd.DataFrame(np.random.randn(6,4),index=dates,columns=list('ABCD'))\n",
        "print(df)\n",
        "print(df.T)\n",
        "print(df.sort_index(ascending=False))"
      ],
      "execution_count": 2,
      "outputs": [
        {
          "output_type": "stream",
          "name": "stdout",
          "text": [
            "                   A         B         C         D\n",
            "2020-10-10  0.206191  0.095474  0.369270  0.148867\n",
            "2020-10-11 -1.959634 -0.888563  0.562289  0.367440\n",
            "2020-10-12 -0.375208  0.474104 -0.044798 -0.214228\n",
            "2020-10-13  0.339386 -0.557849  1.020453  0.257450\n",
            "2020-10-14  0.302946  0.490020 -0.158194 -2.004571\n",
            "2020-10-15  0.778797 -0.028423  0.008771  0.001450\n",
            "   2020-10-10  2020-10-11  2020-10-12  2020-10-13  2020-10-14  2020-10-15\n",
            "A    0.206191   -1.959634   -0.375208    0.339386    0.302946    0.778797\n",
            "B    0.095474   -0.888563    0.474104   -0.557849    0.490020   -0.028423\n",
            "C    0.369270    0.562289   -0.044798    1.020453   -0.158194    0.008771\n",
            "D    0.148867    0.367440   -0.214228    0.257450   -2.004571    0.001450\n",
            "                   A         B         C         D\n",
            "2020-10-15  0.778797 -0.028423  0.008771  0.001450\n",
            "2020-10-14  0.302946  0.490020 -0.158194 -2.004571\n",
            "2020-10-13  0.339386 -0.557849  1.020453  0.257450\n",
            "2020-10-12 -0.375208  0.474104 -0.044798 -0.214228\n",
            "2020-10-11 -1.959634 -0.888563  0.562289  0.367440\n",
            "2020-10-10  0.206191  0.095474  0.369270  0.148867\n"
          ]
        }
      ]
    },
    {
      "cell_type": "markdown",
      "metadata": {
        "id": "ss7s_8iDbAcL"
      },
      "source": [
        ""
      ]
    }
  ]
}