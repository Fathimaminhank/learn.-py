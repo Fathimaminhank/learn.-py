{
  "nbformat": 4,
  "nbformat_minor": 0,
  "metadata": {
    "colab": {
      "name": "TASK 19.ipynb",
      "provenance": [],
      "include_colab_link": true
    },
    "kernelspec": {
      "name": "python3",
      "display_name": "Python 3"
    },
    "language_info": {
      "name": "python"
    }
  },
  "cells": [
    {
      "cell_type": "markdown",
      "metadata": {
        "id": "view-in-github",
        "colab_type": "text"
      },
      "source": [
        "<a href=\"https://colab.research.google.com/github/Fathimaminhank/learn.-py/blob/main/TASK_19.ipynb\" target=\"_parent\"><img src=\"https://colab.research.google.com/assets/colab-badge.svg\" alt=\"Open In Colab\"/></a>"
      ]
    },
    {
      "cell_type": "markdown",
      "metadata": {
        "id": "6J-6GvX2JUcC"
      },
      "source": [
        "1. Create a DataFrame by passing a random numpy array,with a dateted index and labelled columns and display,\n",
        "  - where values of the column A is greater than 0.\n",
        "  - where values of the columns A is greater than 0 and B greater than -1.\n",
        "  - where values of the columns A  is greater than 0 or B greater than -1.\n"
      ]
    },
    {
      "cell_type": "code",
      "metadata": {
        "id": "xX-5VikpLcHL",
        "outputId": "06657740-927b-44a5-e101-d007b976bb29",
        "colab": {
          "base_uri": "https://localhost:8080/"
        }
      },
      "source": [
        "#please type your code below this line.\n",
        " \n",
        "import pandas as pd\n",
        "import numpy as np\n",
        "dates=pd.date_range('20201010',periods=6)\n",
        "df=pd.DataFrame(np.random.randn(6,4),index=dates,columns=list('ABCD'))\n",
        "print(df)\n",
        "a=df[df.A>0]\n",
        "print(a)\n",
        "print(df[(df.A>0)&(df.B>-1)])\n",
        "print(df[(df.A>0)|(df.B>-1)])"
      ],
      "execution_count": 1,
      "outputs": [
        {
          "output_type": "stream",
          "name": "stdout",
          "text": [
            "                   A         B         C         D\n",
            "2020-10-10 -0.695251  0.855558 -1.533037  0.840846\n",
            "2020-10-11  0.109018 -0.315361 -0.636275  0.624248\n",
            "2020-10-12  0.479742  1.163007 -0.882366  0.508831\n",
            "2020-10-13  0.098064  1.288729 -0.546783 -0.369715\n",
            "2020-10-14 -0.183928  0.038677 -0.668368 -0.362713\n",
            "2020-10-15  1.076655 -0.273267  0.859871  0.063806\n",
            "                   A         B         C         D\n",
            "2020-10-11  0.109018 -0.315361 -0.636275  0.624248\n",
            "2020-10-12  0.479742  1.163007 -0.882366  0.508831\n",
            "2020-10-13  0.098064  1.288729 -0.546783 -0.369715\n",
            "2020-10-15  1.076655 -0.273267  0.859871  0.063806\n",
            "                   A         B         C         D\n",
            "2020-10-11  0.109018 -0.315361 -0.636275  0.624248\n",
            "2020-10-12  0.479742  1.163007 -0.882366  0.508831\n",
            "2020-10-13  0.098064  1.288729 -0.546783 -0.369715\n",
            "2020-10-15  1.076655 -0.273267  0.859871  0.063806\n",
            "                   A         B         C         D\n",
            "2020-10-10 -0.695251  0.855558 -1.533037  0.840846\n",
            "2020-10-11  0.109018 -0.315361 -0.636275  0.624248\n",
            "2020-10-12  0.479742  1.163007 -0.882366  0.508831\n",
            "2020-10-13  0.098064  1.288729 -0.546783 -0.369715\n",
            "2020-10-14 -0.183928  0.038677 -0.668368 -0.362713\n",
            "2020-10-15  1.076655 -0.273267  0.859871  0.063806\n"
          ]
        }
      ]
    },
    {
      "cell_type": "markdown",
      "metadata": {
        "id": "1WAf9SbwLp6o"
      },
      "source": [
        "2. Create a DataFrame by passing a random numpy array,with a dateted index and labelled columns and check if ,\n",
        "  - the values of the table are greater the zero or not.\n",
        "  - the value at the postion (0,0) is equal to NaN or not."
      ]
    },
    {
      "cell_type": "code",
      "metadata": {
        "id": "rBrt8pMeM2Q5",
        "outputId": "09eb770e-4de0-4c55-9b7b-b5cf8ac3ada0",
        "colab": {
          "base_uri": "https://localhost:8080/"
        }
      },
      "source": [
        "#please type your code below this line.\n",
        " \n",
        "import pandas as pd\n",
        "import numpy as np \n",
        "dates=pd.date_range('20201010',periods=6)\n",
        "df=pd.DataFrame(np.random.randn(6,4),index=dates,columns=list('ABCD'))\n",
        "print(df)\n",
        "print(df>0)\n",
        "df1=df.loc[dates[0],'A']\n",
        "print(pd.isna(df1))"
      ],
      "execution_count": 2,
      "outputs": [
        {
          "output_type": "stream",
          "name": "stdout",
          "text": [
            "                   A         B         C         D\n",
            "2020-10-10 -0.723478  0.588579 -0.504725  0.202487\n",
            "2020-10-11  0.547298 -1.067986 -0.239665  1.696033\n",
            "2020-10-12  0.725023  0.768676  0.251663 -1.882809\n",
            "2020-10-13  0.124467  0.042632  0.881233  0.475205\n",
            "2020-10-14 -0.802872 -1.316209  0.307223 -0.792940\n",
            "2020-10-15 -1.504071  0.235625 -1.642169  1.617738\n",
            "                A      B      C      D\n",
            "2020-10-10  False   True  False   True\n",
            "2020-10-11   True  False  False   True\n",
            "2020-10-12   True   True   True  False\n",
            "2020-10-13   True   True   True   True\n",
            "2020-10-14  False  False   True  False\n",
            "2020-10-15  False   True  False   True\n",
            "False\n"
          ]
        }
      ]
    },
    {
      "cell_type": "markdown",
      "metadata": {
        "id": "IfM9XYmiNaKB"
      },
      "source": [
        "3. Create a DataFrame by passing a random numpy array,with a dateted index and labelled columns and,\n",
        "  - reindex the index with even dates.\n",
        "  - create a column with values NaN.\n",
        "  - make the values of the first two index of the newly created column as 1"
      ]
    },
    {
      "cell_type": "code",
      "metadata": {
        "id": "F-w8kEfaORg3",
        "outputId": "f5bbf0a7-0cf4-4dc8-8c31-057bdd7c917d",
        "colab": {
          "base_uri": "https://localhost:8080/"
        }
      },
      "source": [
        "#please type your answer below this line.\n",
        " \n",
        "import pandas as pd\n",
        "import numpy as np\n",
        "dates=pd.date_range('20201010',periods=6)\n",
        "df=pd.DataFrame(np.random.randn(6,4),index=dates,columns=list('ABCD'))\n",
        "print(df)\n",
        "df1=df.reindex(index=dates[::2],columns=list(df.columns))\n",
        "print(df1.assign(E=np.nan))\n",
        "df1.loc[dates[0]:dates[2],'E']=1\n",
        "print(df1)"
      ],
      "execution_count": 3,
      "outputs": [
        {
          "output_type": "stream",
          "name": "stdout",
          "text": [
            "                   A         B         C         D\n",
            "2020-10-10 -0.754688  1.043924  0.416501 -1.065429\n",
            "2020-10-11 -0.491607 -1.485853  0.680861 -0.882909\n",
            "2020-10-12 -1.268838 -2.078014 -0.485868  0.307380\n",
            "2020-10-13  0.004668 -0.776259 -0.299793 -0.655976\n",
            "2020-10-14 -0.217896  2.347953  0.514244  0.065185\n",
            "2020-10-15 -1.228195  0.013494  1.475372  0.988840\n",
            "                   A         B         C         D   E\n",
            "2020-10-10 -0.754688  1.043924  0.416501 -1.065429 NaN\n",
            "2020-10-12 -1.268838 -2.078014 -0.485868  0.307380 NaN\n",
            "2020-10-14 -0.217896  2.347953  0.514244  0.065185 NaN\n",
            "                   A         B         C         D    E\n",
            "2020-10-10 -0.754688  1.043924  0.416501 -1.065429  1.0\n",
            "2020-10-12 -1.268838 -2.078014 -0.485868  0.307380  1.0\n",
            "2020-10-14 -0.217896  2.347953  0.514244  0.065185  NaN\n"
          ]
        }
      ]
    }
  ]
}