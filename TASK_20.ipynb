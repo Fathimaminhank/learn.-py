{
  "nbformat": 4,
  "nbformat_minor": 0,
  "metadata": {
    "colab": {
      "name": "TASK 20.ipynb",
      "provenance": [],
      "include_colab_link": true
    },
    "kernelspec": {
      "name": "python3",
      "display_name": "Python 3"
    },
    "language_info": {
      "name": "python"
    }
  },
  "cells": [
    {
      "cell_type": "markdown",
      "metadata": {
        "id": "view-in-github",
        "colab_type": "text"
      },
      "source": [
        "<a href=\"https://colab.research.google.com/github/Fathimaminhank/learn.-py/blob/main/TASK_20.ipynb\" target=\"_parent\"><img src=\"https://colab.research.google.com/assets/colab-badge.svg\" alt=\"Open In Colab\"/></a>"
      ]
    },
    {
      "cell_type": "markdown",
      "metadata": {
        "id": "8LIfdcjDWmC3"
      },
      "source": [
        "1. In the data given below,\n",
        "  - find the boolean mask where value is nan\n",
        "  - remove the row with missing data.\n"
      ]
    },
    {
      "cell_type": "markdown",
      "metadata": {
        "id": "VPCGISRTbYPz"
      },
      "source": [
        ""
      ]
    },
    {
      "cell_type": "code",
      "metadata": {
        "colab": {
          "base_uri": "https://localhost:8080/"
        },
        "id": "VsZQYRqXXHpG",
        "outputId": "1bfea74e-19fb-4c22-f246-d8e0a50f9098"
      },
      "source": [
        "import pandas as pd\n",
        "import numpy as np\n",
        "dates = pd.date_range('20210101',periods=6)\n",
        "df = pd.DataFrame(np.random.randn(6,4), index=dates,columns=list('ABCD'))\n",
        "s1 = pd.Series([1,2,3,4,5,6], index=pd.date_range('20130102', periods=6))\n",
        "df[\"F\"]=s1\n",
        "df1=df.reindex(index=dates[0:4], columns=list(df.columns) + ['E'])\n",
        "df1.loc[dates[0]:dates[1],'E'] = 1\n",
        "df1\n",
        "#please provide your answer below this line\n",
        " \n",
        "print(df1.isnull())\n",
        "print(df1.dropna(axis=0))"
      ],
      "execution_count": 4,
      "outputs": [
        {
          "output_type": "stream",
          "name": "stdout",
          "text": [
            "                A      B      C      D     F      E\n",
            "2021-01-01  False  False  False  False  True  False\n",
            "2021-01-02  False  False  False  False  True  False\n",
            "2021-01-03  False  False  False  False  True   True\n",
            "2021-01-04  False  False  False  False  True   True\n",
            "Empty DataFrame\n",
            "Columns: [A, B, C, D, F, E]\n",
            "Index: []\n"
          ]
        }
      ]
    },
    {
      "cell_type": "markdown",
      "metadata": {
        "id": "z1sv0aluZhcd"
      },
      "source": [
        "2. In the data given below,fill the missing data with 20."
      ]
    },
    {
      "cell_type": "code",
      "metadata": {
        "colab": {
          "base_uri": "https://localhost:8080/"
        },
        "id": "x3ZHFCeyZ0j2",
        "outputId": "90f8f993-5b11-44a2-a339-a0e07ab9e174"
      },
      "source": [
        "import pandas as pd\n",
        "import numpy as np\n",
        "dates = pd.date_range('20210101',periods=6)\n",
        "df = pd.DataFrame(np.random.randn(6,4), index=dates,columns=list('ABCD'))\n",
        "s1 = pd.Series([1,2,3,4,5,6], index=pd.date_range('20130102', periods=6))\n",
        "df[\"F\"]=s1\n",
        "df1=df.reindex(index=dates[0:4], columns=list(df.columns) + ['E'])\n",
        "df1.loc[dates[0]:dates[1],'E'] = 1\n",
        "print(df1) \n",
        "#please provide your answer below this line\n",
        "print(df1.fillna(value=20))"
      ],
      "execution_count": 6,
      "outputs": [
        {
          "output_type": "stream",
          "name": "stdout",
          "text": [
            "                   A         B         C         D   F    E\n",
            "2021-01-01 -1.245366  0.039759 -1.199996  0.417562 NaN  1.0\n",
            "2021-01-02 -0.456515  0.511201  1.197779 -0.491063 NaN  1.0\n",
            "2021-01-03 -0.172566  0.925527 -0.183918  0.161660 NaN  NaN\n",
            "2021-01-04  0.978876 -1.030401 -1.714855 -0.427322 NaN  NaN\n",
            "                   A         B         C         D     F     E\n",
            "2021-01-01 -1.245366  0.039759 -1.199996  0.417562  20.0   1.0\n",
            "2021-01-02 -0.456515  0.511201  1.197779 -0.491063  20.0   1.0\n",
            "2021-01-03 -0.172566  0.925527 -0.183918  0.161660  20.0  20.0\n",
            "2021-01-04  0.978876 -1.030401 -1.714855 -0.427322  20.0  20.0\n"
          ]
        }
      ]
    },
    {
      "cell_type": "markdown",
      "metadata": {
        "id": "vMzwvpxcZ3G8"
      },
      "source": [
        "3. From the data given below,\n",
        "  - break the data in to pieces from 0 t0 2 ,3 t0 7\n",
        "  - concatenate the pieces.\n",
        "  - concatenate the pieces along axis 1\n",
        "  - label each as 'a' and 'b' respectively and perform concatenation."
      ]
    },
    {
      "cell_type": "code",
      "metadata": {
        "colab": {
          "base_uri": "https://localhost:8080/"
        },
        "id": "LxGwKPTVbbXV",
        "outputId": "c731d902-5435-4232-f828-7211ef34a2c8"
      },
      "source": [
        "import pandas as pd\n",
        "import numpy as np\n",
        "df = pd.DataFrame(np.random.randn(10, 4))\n",
        "print(df) \n",
        "#please provide your answer below this line\n",
        "pieces=[df[:3],df[3:8]]\n",
        "print(pieces)\n",
        "print(pd.concat(pieces))\n",
        "print(pd.concat(pieces,axis=1))\n",
        "a=df[:3]\n",
        "b=df[3:8]\n",
        "print(pd.concat([a,b]))"
      ],
      "execution_count": 8,
      "outputs": [
        {
          "output_type": "stream",
          "name": "stdout",
          "text": [
            "          0         1         2         3\n",
            "0  0.468514  1.427839 -0.571654  0.375297\n",
            "1  0.679855  1.852175  1.049815 -0.088117\n",
            "2  1.035157 -0.280536 -0.981038 -0.747934\n",
            "3  0.728508 -2.774610  0.542727 -0.399287\n",
            "4  0.415599  1.913886 -0.125862 -0.486949\n",
            "5  1.006543 -0.471985  1.224547  0.984122\n",
            "6  0.576627  0.083671  0.977584 -0.454331\n",
            "7  1.393464  3.511748  0.228641 -0.835639\n",
            "8  0.540778  0.833251 -1.181249  2.377129\n",
            "9 -1.373306  0.734397 -0.870813 -0.811143\n",
            "[          0         1         2         3\n",
            "0  0.468514  1.427839 -0.571654  0.375297\n",
            "1  0.679855  1.852175  1.049815 -0.088117\n",
            "2  1.035157 -0.280536 -0.981038 -0.747934,           0         1         2         3\n",
            "3  0.728508 -2.774610  0.542727 -0.399287\n",
            "4  0.415599  1.913886 -0.125862 -0.486949\n",
            "5  1.006543 -0.471985  1.224547  0.984122\n",
            "6  0.576627  0.083671  0.977584 -0.454331\n",
            "7  1.393464  3.511748  0.228641 -0.835639]\n",
            "          0         1         2         3\n",
            "0  0.468514  1.427839 -0.571654  0.375297\n",
            "1  0.679855  1.852175  1.049815 -0.088117\n",
            "2  1.035157 -0.280536 -0.981038 -0.747934\n",
            "3  0.728508 -2.774610  0.542727 -0.399287\n",
            "4  0.415599  1.913886 -0.125862 -0.486949\n",
            "5  1.006543 -0.471985  1.224547  0.984122\n",
            "6  0.576627  0.083671  0.977584 -0.454331\n",
            "7  1.393464  3.511748  0.228641 -0.835639\n",
            "          0         1         2  ...         1         2         3\n",
            "0  0.468514  1.427839 -0.571654  ...       NaN       NaN       NaN\n",
            "1  0.679855  1.852175  1.049815  ...       NaN       NaN       NaN\n",
            "2  1.035157 -0.280536 -0.981038  ...       NaN       NaN       NaN\n",
            "3       NaN       NaN       NaN  ... -2.774610  0.542727 -0.399287\n",
            "4       NaN       NaN       NaN  ...  1.913886 -0.125862 -0.486949\n",
            "5       NaN       NaN       NaN  ... -0.471985  1.224547  0.984122\n",
            "6       NaN       NaN       NaN  ...  0.083671  0.977584 -0.454331\n",
            "7       NaN       NaN       NaN  ...  3.511748  0.228641 -0.835639\n",
            "\n",
            "[8 rows x 8 columns]\n",
            "          0         1         2         3\n",
            "0  0.468514  1.427839 -0.571654  0.375297\n",
            "1  0.679855  1.852175  1.049815 -0.088117\n",
            "2  1.035157 -0.280536 -0.981038 -0.747934\n",
            "3  0.728508 -2.774610  0.542727 -0.399287\n",
            "4  0.415599  1.913886 -0.125862 -0.486949\n",
            "5  1.006543 -0.471985  1.224547  0.984122\n",
            "6  0.576627  0.083671  0.977584 -0.454331\n",
            "7  1.393464  3.511748  0.228641 -0.835639\n"
          ]
        }
      ]
    },
    {
      "cell_type": "code",
      "metadata": {
        "id": "h290MAgudPQI"
      },
      "source": [
        ""
      ],
      "execution_count": null,
      "outputs": []
    }
  ]
}