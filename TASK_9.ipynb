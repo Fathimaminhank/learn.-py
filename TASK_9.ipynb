{
  "nbformat": 4,
  "nbformat_minor": 0,
  "metadata": {
    "colab": {
      "name": "TASK 9.ipynb",
      "provenance": [],
      "include_colab_link": true
    },
    "kernelspec": {
      "name": "python3",
      "display_name": "Python 3"
    },
    "language_info": {
      "name": "python"
    }
  },
  "cells": [
    {
      "cell_type": "markdown",
      "metadata": {
        "id": "view-in-github",
        "colab_type": "text"
      },
      "source": [
        "<a href=\"https://colab.research.google.com/github/Fathimaminhank/learn.-py/blob/main/TASK_9.ipynb\" target=\"_parent\"><img src=\"https://colab.research.google.com/assets/colab-badge.svg\" alt=\"Open In Colab\"/></a>"
      ]
    },
    {
      "cell_type": "markdown",
      "metadata": {
        "id": "CBOQ3rFElEb0"
      },
      "source": [
        "1. Create an 4x4 array containing the values ranging from 0 - 15 (use arange function). Then ,\n",
        "  \n",
        "  a) split it equally along horizontal.\n",
        "\n",
        "  b) split it as 4 parts vertically.\n",
        "\n"
      ]
    },
    {
      "cell_type": "code",
      "metadata": {
        "id": "pKy4fjS_m3XD",
        "outputId": "409c9b42-724e-4c0c-96b5-520a019bc4ac",
        "colab": {
          "base_uri": "https://localhost:8080/"
        }
      },
      "source": [
        "#please provide your answer below this line\n",
        "import numpy as np\n",
        "x = np.arange(0,16).reshape(4,4)\n",
        "print(x)\n",
        "print(np.hsplit(x,4))\n",
        "print(np.vsplit(x,4))"
      ],
      "execution_count": 16,
      "outputs": [
        {
          "output_type": "stream",
          "text": [
            "[[ 0  1  2  3]\n",
            " [ 4  5  6  7]\n",
            " [ 8  9 10 11]\n",
            " [12 13 14 15]]\n",
            "[array([[ 0],\n",
            "       [ 4],\n",
            "       [ 8],\n",
            "       [12]]), array([[ 1],\n",
            "       [ 5],\n",
            "       [ 9],\n",
            "       [13]]), array([[ 2],\n",
            "       [ 6],\n",
            "       [10],\n",
            "       [14]]), array([[ 3],\n",
            "       [ 7],\n",
            "       [11],\n",
            "       [15]])]\n",
            "[array([[0, 1, 2, 3]]), array([[4, 5, 6, 7]]), array([[ 8,  9, 10, 11]]), array([[12, 13, 14, 15]])]\n"
          ],
          "name": "stdout"
        }
      ]
    },
    {
      "cell_type": "markdown",
      "metadata": {
        "id": "ORtqWRAeoMvn"
      },
      "source": [
        "2. Create a 3x3 matrix using random module and then,\n",
        "\n",
        "  a) Find the ceil of the matrix.\n",
        "  \n",
        "  b) Find the floor of the matrix."
      ]
    },
    {
      "cell_type": "code",
      "metadata": {
        "id": "kt_CO_v9qpU-",
        "outputId": "4ef5056c-624c-4a93-cd81-26388e57e52a",
        "colab": {
          "base_uri": "https://localhost:8080/"
        }
      },
      "source": [
        "#please provide your answer below this line\n",
        " \n",
        "import numpy as np\n",
        "x=np.random.randn(3,3)\n",
        "print(x)\n",
        "print (np.ceil(x))\n",
        "print (np.floor(x))"
      ],
      "execution_count": 15,
      "outputs": [
        {
          "output_type": "stream",
          "text": [
            "[[ 0.36924801  1.12909795  0.18165509]\n",
            " [-0.10098087  2.21162752  0.9927939 ]\n",
            " [-0.96954546 -0.02471968 -0.04188613]]\n",
            "[[ 1.  2.  1.]\n",
            " [-0.  3.  1.]\n",
            " [-0. -0. -0.]]\n",
            "[[ 0.  1.  0.]\n",
            " [-1.  2.  0.]\n",
            " [-1. -1. -1.]]\n"
          ],
          "name": "stdout"
        }
      ]
    },
    {
      "cell_type": "markdown",
      "metadata": {
        "id": "oln9t19WqzBb"
      },
      "source": [
        "3. Create a random 1x4 array and print the random array and its shape.\n",
        "    \n",
        "      (use the shape function for finding the shape & use the same random we created here for both the below operations.)\n",
        "\n",
        "  a) Squeeze the random array and print the squeezed array and its shape.\n",
        "  b) Expand the random array by one axis and print the expanded array and its shape."
      ]
    },
    {
      "cell_type": "code",
      "metadata": {
        "id": "cbGGwRo3vpVX",
        "outputId": "524db850-232d-4508-b955-964856dbd8a5",
        "colab": {
          "base_uri": "https://localhost:8080/"
        }
      },
      "source": [
        "#please provide your answer below this line.\n",
        " \n",
        "import numpy as np\n",
        "x=np.arange(4).reshape(1,4)\n",
        "print(x)\n",
        "print(x.shape)\n",
        "squeeze=np.squeeze(x)\n",
        "print (squeeze)\n",
        "print(squeeze.shape)\n",
        "y=np.expand_dims(x,axis=0)\n",
        "print(y)\n",
        "print(y.shape)"
      ],
      "execution_count": 14,
      "outputs": [
        {
          "output_type": "stream",
          "text": [
            "[[0 1 2 3]]\n",
            "(1, 4)\n",
            "[0 1 2 3]\n",
            "(4,)\n",
            "[[[0 1 2 3]]]\n",
            "(1, 1, 4)\n"
          ],
          "name": "stdout"
        }
      ]
    }
  ]
}