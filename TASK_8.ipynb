{
  "nbformat": 4,
  "nbformat_minor": 0,
  "metadata": {
    "colab": {
      "name": "TASK 8.ipynb",
      "provenance": [],
      "include_colab_link": true
    },
    "kernelspec": {
      "name": "python3",
      "display_name": "Python 3"
    },
    "language_info": {
      "name": "python"
    }
  },
  "cells": [
    {
      "cell_type": "markdown",
      "metadata": {
        "id": "view-in-github",
        "colab_type": "text"
      },
      "source": [
        "<a href=\"https://colab.research.google.com/github/Fathimaminhank/learn.-py/blob/main/TASK_8.ipynb\" target=\"_parent\"><img src=\"https://colab.research.google.com/assets/colab-badge.svg\" alt=\"Open In Colab\"/></a>"
      ]
    },
    {
      "cell_type": "markdown",
      "metadata": {
        "id": "slsGswYbJSo7"
      },
      "source": [
        "1. Generate a 3 x 3 matrix using random module."
      ]
    },
    {
      "cell_type": "code",
      "metadata": {
        "id": "GGRQSYyNJW9t",
        "outputId": "909c970e-bedc-43ae-b8ca-675ab7224861",
        "colab": {
          "base_uri": "https://localhost:8080/"
        }
      },
      "source": [
        "#please provide your answer below this line.\n",
        " \n",
        "import numpy as np\n",
        " \n",
        "array = np.random.randint( 10,size=(3, 3)) \n",
        " \n",
        "print(array)"
      ],
      "execution_count": 12,
      "outputs": [
        {
          "output_type": "stream",
          "text": [
            "[[3 7 2]\n",
            " [4 6 5]\n",
            " [9 9 4]]\n"
          ],
          "name": "stdout"
        }
      ]
    },
    {
      "cell_type": "markdown",
      "metadata": {
        "id": "4OB9KFX6JfYA"
      },
      "source": [
        "2. Generate two 4 x 4 matrix using numpy and \n",
        "\n",
        " a) Reshape it to 2 x 8matrix and vertically stack it.\n",
        "\n",
        " b) Reshape it to 2 x 8 matrix and horizontally stack it."
      ]
    },
    {
      "cell_type": "code",
      "metadata": {
        "id": "VoIqYeNWJ4H_",
        "outputId": "aae11736-0070-4ce7-e838-39f0dc2099c0",
        "colab": {
          "base_uri": "https://localhost:8080/"
        }
      },
      "source": [
        "#please provide your answer below this line.\n",
        " \n",
        "import numpy as np\n",
        "array1= np.random.randint(10,size=(4,4))\n",
        "print(array1)\n",
        "array2=np.random.randint(10,size=(4,4))\n",
        "print(array2)\n",
        "x=array1.reshape(2,8)\n",
        "y=array2.reshape(2,8)\n",
        "print (np.vstack((x,y)))\n",
        "print (np.hstack((x,y)))"
      ],
      "execution_count": 11,
      "outputs": [
        {
          "output_type": "stream",
          "text": [
            "[[1 8 8 3]\n",
            " [4 6 9 0]\n",
            " [9 2 5 5]\n",
            " [7 1 3 2]]\n",
            "[[8 9 6 7]\n",
            " [3 1 7 8]\n",
            " [3 3 5 1]\n",
            " [8 9 9 0]]\n",
            "[[1 8 8 3 4 6 9 0]\n",
            " [9 2 5 5 7 1 3 2]\n",
            " [8 9 6 7 3 1 7 8]\n",
            " [3 3 5 1 8 9 9 0]]\n",
            "[[1 8 8 3 4 6 9 0 8 9 6 7 3 1 7 8]\n",
            " [9 2 5 5 7 1 3 2 3 3 5 1 8 9 9 0]]\n"
          ],
          "name": "stdout"
        }
      ]
    }
  ]
}