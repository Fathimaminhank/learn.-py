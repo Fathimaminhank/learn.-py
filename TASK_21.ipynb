{
  "nbformat": 4,
  "nbformat_minor": 0,
  "metadata": {
    "colab": {
      "name": "TASK 21.ipynb",
      "provenance": [],
      "include_colab_link": true
    },
    "kernelspec": {
      "name": "python3",
      "display_name": "Python 3"
    },
    "language_info": {
      "name": "python"
    }
  },
  "cells": [
    {
      "cell_type": "markdown",
      "metadata": {
        "id": "view-in-github",
        "colab_type": "text"
      },
      "source": [
        "<a href=\"https://colab.research.google.com/github/Fathimaminhank/learn.-py/blob/main/TASK_21.ipynb\" target=\"_parent\"><img src=\"https://colab.research.google.com/assets/colab-badge.svg\" alt=\"Open In Colab\"/></a>"
      ]
    },
    {
      "cell_type": "markdown",
      "metadata": {
        "id": "wK9sv7fHTnyo"
      },
      "source": [
        "1.  Using the dataset given below,\n",
        "  - Group the given dataset by A and find the sum of the groups.\n",
        "  - Find the 3 least elements from the column D\n",
        "  - Find the 3 largest elements from the Column D which belongs to the group\n",
        "  'bar'."
      ]
    },
    {
      "cell_type": "code",
      "metadata": {
        "id": "C_Kq4i_rVNyB",
        "outputId": "b51aa8e6-c0fa-4a12-c0e7-82e22bd72f50",
        "colab": {
          "base_uri": "https://localhost:8080/"
        }
      },
      "source": [
        "import pandas as pd\n",
        "import numpy as np\n",
        "df = pd.DataFrame({'A' : ['foo', 'bar', 'foo', 'bar',\n",
        "                          'foo', 'bar', 'foo', 'foo'],\n",
        "                   'B' : ['one', 'one', 'two', 'three',\n",
        "                          'two', 'two', 'one', 'three'],\n",
        "                   'C' : np.random.randn(8),\n",
        "                   'D' : np.random.randn(8)})\n",
        "print(df) \n",
        "#please type your code below this line.\n",
        " \n",
        "print(df.groupby([\"A\"]).sum())\n",
        "print(df.nsmallest(3,[\"D\"]))\n",
        "print(df.nlargest(3,[\"D\"]))"
      ],
      "execution_count": 1,
      "outputs": [
        {
          "output_type": "stream",
          "name": "stdout",
          "text": [
            "     A      B         C         D\n",
            "0  foo    one  1.075855 -1.212768\n",
            "1  bar    one  0.450942  1.586821\n",
            "2  foo    two -0.383988 -1.577807\n",
            "3  bar  three  1.450576  0.958807\n",
            "4  foo    two  0.739326 -1.353895\n",
            "5  bar    two  0.333097  1.509565\n",
            "6  foo    one  0.275995 -0.286172\n",
            "7  foo  three  1.303783 -1.659252\n",
            "            C         D\n",
            "A                      \n",
            "bar  2.234615  4.055192\n",
            "foo  3.010971 -6.089893\n",
            "     A      B         C         D\n",
            "7  foo  three  1.303783 -1.659252\n",
            "2  foo    two -0.383988 -1.577807\n",
            "4  foo    two  0.739326 -1.353895\n",
            "     A      B         C         D\n",
            "1  bar    one  0.450942  1.586821\n",
            "5  bar    two  0.333097  1.509565\n",
            "3  bar  three  1.450576  0.958807\n"
          ]
        }
      ]
    },
    {
      "cell_type": "markdown",
      "metadata": {
        "id": "68XLHGsrdHXb"
      },
      "source": [
        "2. Using the dataset given below,\n",
        "  - convert the dataset into a csv file.\n",
        "  - read the csv file just saved\n",
        "  - covert the dataset into a excel file.\n",
        "  - read the excel file just saved."
      ]
    },
    {
      "cell_type": "code",
      "metadata": {
        "id": "J4BOx3UZdVLV",
        "outputId": "3f77ebe8-5a64-4154-b005-e686cf4d7dfd",
        "colab": {
          "base_uri": "https://localhost:8080/"
        }
      },
      "source": [
        "import pandas as pd\n",
        "import numpy as np\n",
        "df = pd.DataFrame({'A' : ['foo', 'bar', 'foo', 'bar',\n",
        "                          'foo', 'bar', 'foo', 'foo'],\n",
        "                   'B' : ['one', 'one', 'two', 'three',\n",
        "                          'two', 'two', 'one', 'three'],\n",
        "                   'C' : np.random.randn(8),\n",
        "                   'D' : np.random.randn(8)})\n",
        "#please type your code below this line.\n",
        "print(df)\n",
        "print(df.to_csv('data.csv'))\n",
        "print(pd.read_csv('data.csv',index_col=0))\n",
        "file_name='datasheet.xlsx'\n",
        "print(df.to_excel(file_name))\n",
        "print(pd.read_excel('datasheet.xlsx',index_col=0))"
      ],
      "execution_count": 2,
      "outputs": [
        {
          "output_type": "stream",
          "name": "stdout",
          "text": [
            "     A      B         C         D\n",
            "0  foo    one -1.749398  0.120290\n",
            "1  bar    one -1.120586 -0.300497\n",
            "2  foo    two  0.162223 -0.425594\n",
            "3  bar  three -1.878485 -1.400669\n",
            "4  foo    two -0.785048  0.437648\n",
            "5  bar    two  1.056491 -0.909807\n",
            "6  foo    one -0.835106  1.311625\n",
            "7  foo  three  1.701071 -0.299059\n",
            "None\n",
            "     A      B         C         D\n",
            "0  foo    one -1.749398  0.120290\n",
            "1  bar    one -1.120586 -0.300497\n",
            "2  foo    two  0.162223 -0.425594\n",
            "3  bar  three -1.878485 -1.400669\n",
            "4  foo    two -0.785048  0.437648\n",
            "5  bar    two  1.056491 -0.909807\n",
            "6  foo    one -0.835106  1.311625\n",
            "7  foo  three  1.701071 -0.299059\n",
            "None\n",
            "     A      B         C         D\n",
            "0  foo    one -1.749398  0.120290\n",
            "1  bar    one -1.120586 -0.300497\n",
            "2  foo    two  0.162223 -0.425594\n",
            "3  bar  three -1.878485 -1.400669\n",
            "4  foo    two -0.785048  0.437648\n",
            "5  bar    two  1.056491 -0.909807\n",
            "6  foo    one -0.835106  1.311625\n",
            "7  foo  three  1.701071 -0.299059\n"
          ]
        }
      ]
    }
  ]
}