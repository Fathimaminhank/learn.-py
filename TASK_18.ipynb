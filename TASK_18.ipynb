{
  "nbformat": 4,
  "nbformat_minor": 0,
  "metadata": {
    "colab": {
      "name": "TASK 18.ipynb",
      "provenance": [],
      "include_colab_link": true
    },
    "kernelspec": {
      "name": "python3",
      "display_name": "Python 3"
    },
    "language_info": {
      "name": "python"
    }
  },
  "cells": [
    {
      "cell_type": "markdown",
      "metadata": {
        "id": "view-in-github",
        "colab_type": "text"
      },
      "source": [
        "<a href=\"https://colab.research.google.com/github/Fathimaminhank/learn.-py/blob/main/TASK_18.ipynb\" target=\"_parent\"><img src=\"https://colab.research.google.com/assets/colab-badge.svg\" alt=\"Open In Colab\"/></a>"
      ]
    },
    {
      "cell_type": "markdown",
      "metadata": {
        "id": "_JgXT8pEAjU4"
      },
      "source": [
        "1. \n",
        "Create a DataFrame by passing a random numpy array,with a datetie index and labelled columns.and,\n",
        "    - slice its first three rows and display.\n",
        "    - slice its odd indexed rows.\n",
        "    - display the dates from 1st postion to 4 th position."
      ]
    },
    {
      "cell_type": "code",
      "metadata": {
        "id": "5zFM5VOJBKBV",
        "outputId": "393015b8-c833-4364-9241-5de8e5e7bcfc",
        "colab": {
          "base_uri": "https://localhost:8080/"
        }
      },
      "source": [
        "#please provide your answer below this line.\n",
        " \n",
        "import pandas as pd\n",
        "import numpy as np\n",
        "dates=pd.date_range('20201010',periods=6)\n",
        "df=pd.DataFrame(np.random.randn(6,4),index=dates,columns=list('ABCD'))\n",
        "print(df)\n",
        "print(df.iloc[0:3])\n",
        "print(df.iloc[1::2])\n",
        "print(df.iloc[0:5])"
      ],
      "execution_count": 1,
      "outputs": [
        {
          "output_type": "stream",
          "name": "stdout",
          "text": [
            "                   A         B         C         D\n",
            "2020-10-10 -0.339618  0.422127 -1.062313 -0.228663\n",
            "2020-10-11  0.419531  0.629659  0.469974  0.546625\n",
            "2020-10-12  1.211050 -0.288113 -1.234078 -1.337057\n",
            "2020-10-13 -1.395994  1.361453  1.401752 -2.523147\n",
            "2020-10-14 -0.416736  0.832494 -0.672153 -0.536538\n",
            "2020-10-15 -1.462292 -0.956831 -0.240753 -0.777051\n",
            "                   A         B         C         D\n",
            "2020-10-10 -0.339618  0.422127 -1.062313 -0.228663\n",
            "2020-10-11  0.419531  0.629659  0.469974  0.546625\n",
            "2020-10-12  1.211050 -0.288113 -1.234078 -1.337057\n",
            "                   A         B         C         D\n",
            "2020-10-11  0.419531  0.629659  0.469974  0.546625\n",
            "2020-10-13 -1.395994  1.361453  1.401752 -2.523147\n",
            "2020-10-15 -1.462292 -0.956831 -0.240753 -0.777051\n",
            "                   A         B         C         D\n",
            "2020-10-10 -0.339618  0.422127 -1.062313 -0.228663\n",
            "2020-10-11  0.419531  0.629659  0.469974  0.546625\n",
            "2020-10-12  1.211050 -0.288113 -1.234078 -1.337057\n",
            "2020-10-13 -1.395994  1.361453  1.401752 -2.523147\n",
            "2020-10-14 -0.416736  0.832494 -0.672153 -0.536538\n"
          ]
        }
      ]
    },
    {
      "cell_type": "markdown",
      "metadata": {
        "id": "QuoucvjxBPmX"
      },
      "source": [
        "2. Create a DataFrame by passing a random numpy array,with a datetie index and labelled columns.and\n",
        "  - Dislplay the index from the 1 to 3 date and the columns A and B of respective data.\n",
        "  - Display the datas at the 3rd index.\n",
        "  - Display datas from 2nd to 5th.\n",
        "  - Display the datas from the index 1,2,4 and the column 0 and 2."
      ]
    },
    {
      "cell_type": "code",
      "metadata": {
        "id": "qV_wzsp1DUKI",
        "outputId": "4cfa3fc5-7644-4a05-a0c4-823c70cab795",
        "colab": {
          "base_uri": "https://localhost:8080/"
        }
      },
      "source": [
        "#please provide your answer below thins line.\n",
        " \n",
        "import pandas as pd\n",
        "import numpy as np\n",
        "dates=pd.date_range('20201010',periods=6)\n",
        "df=pd.DataFrame(np.random.randn(6,4),index=dates,columns=list('ABCD'))\n",
        "print(df)\n",
        "print(df.iloc[1:4,0:2])\n",
        "print(df.iloc[2:6])\n",
        "print(df.iloc[[1,2,4],[0,2]])"
      ],
      "execution_count": 2,
      "outputs": [
        {
          "output_type": "stream",
          "name": "stdout",
          "text": [
            "                   A         B         C         D\n",
            "2020-10-10 -0.486835  0.694326  0.154212  0.020768\n",
            "2020-10-11  1.536330  0.186058 -0.563878  1.053647\n",
            "2020-10-12 -0.848634  0.544034 -0.010695  1.174601\n",
            "2020-10-13 -0.357518  0.140724  0.182038  1.268422\n",
            "2020-10-14  1.701842  0.788920 -0.627859 -0.978933\n",
            "2020-10-15  0.818981 -1.414384 -0.706795 -0.876073\n",
            "                   A         B\n",
            "2020-10-11  1.536330  0.186058\n",
            "2020-10-12 -0.848634  0.544034\n",
            "2020-10-13 -0.357518  0.140724\n",
            "                   A         B         C         D\n",
            "2020-10-12 -0.848634  0.544034 -0.010695  1.174601\n",
            "2020-10-13 -0.357518  0.140724  0.182038  1.268422\n",
            "2020-10-14  1.701842  0.788920 -0.627859 -0.978933\n",
            "2020-10-15  0.818981 -1.414384 -0.706795 -0.876073\n",
            "                   A         C\n",
            "2020-10-11  1.536330 -0.563878\n",
            "2020-10-12 -0.848634 -0.010695\n",
            "2020-10-14  1.701842 -0.627859\n"
          ]
        }
      ]
    }
  ]
}